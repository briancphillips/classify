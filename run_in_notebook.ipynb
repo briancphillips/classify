{
 "cells": [
  {
   "cell_type": "code",
   "execution_count": null,
   "metadata": {},
   "outputs": [],
   "source": [
    "import yaml\n",
    "import torch\n",
    "from pathlib import Path\n",
    "from run_experiments import ExperimentManager\n",
    "from utils.logging import setup_logging, get_logger\n",
    "from utils.error_logging import get_error_logger\n",
    "\n",
    "# Initialize logging\n",
    "setup_logging()\n",
    "logger = get_logger(__name__)\n",
    "error_logger = get_error_logger()\n",
    "\n",
    "# Create experiment manager\n",
    "config_path = 'experiments/config.yaml'\n",
    "manager = ExperimentManager(config_path)\n",
    "\n",
    "# Log device information\n",
    "device_info = manager._get_device_info()\n",
    "logger.info(f\"Running experiments on: {device_info}\")\n",
    "logger.info(f\"Total experiments to run: {manager.total_experiments}\")\n",
    "\n",
    "# Run experiments\n",
    "manager.run_experiments()"
   ]
  }
 ],
 "metadata": {
  "kernelspec": {
   "display_name": "Python 3",
   "language": "python",
   "name": "python3"
  },
  "language_info": {
   "codemirror_mode": {
    "name": "ipython",
    "version": 3
   },
   "file_extension": ".py",
   "mimetype": "text/x-python",
   "name": "python",
   "nbconvert_exporter": "python",
   "pygments_lexer": "ipython3",
   "version": "3.8"
  }
 },
 "nbformat": 4,
 "nbformat_minor": 4
}
