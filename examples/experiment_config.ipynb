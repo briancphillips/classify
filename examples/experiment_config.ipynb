{
 "cells": [
  {
   "cell_type": "markdown",
   "metadata": {},
   "source": [
    "# Experiment Configuration Tutorial\n",
    "\n",
    "This notebook demonstrates how to use the new configuration system for setting up and running experiments. The system provides a clean, type-safe interface for managing experiment configurations with support for:\n",
    "\n",
    "- Default configurations\n",
    "- Easy overrides\n",
    "- Dataset-specific settings\n",
    "- Poisoning attack configurations\n",
    "- Multi-GPU experiment support"
   ]
  },
  {
   "cell_type": "markdown",
   "metadata": {},
   "source": [
    "## Basic Configuration\n",
    "\n",
    "Let's start by creating a basic configuration for CIFAR-100. The `create_config` function provides sensible defaults that you can easily override."
   ]
  },
  {
   "cell_type": "code",
   "execution_count": null,
   "metadata": {},
   "source": [
    "from config.experiment_config import create_config\n",
    "\n",
    "# Create a simple configuration for CIFAR-100\n",
    "config = create_config('cifar100')\n",
    "\n",
    "# View the complete configuration\n",
    "print(\"Default configuration:\")\n",
    "print(config.to_dict())"
   ]
  },
  {
   "cell_type": "markdown",
   "metadata": {},
   "source": [
    "## Training Configuration\n",
    "\n",
    "You can easily override training parameters to experiment with different settings:"
   ]
  },
  {
   "cell_type": "code",
   "execution_count": null,
   "metadata": {},
   "source": [
    "# Override training parameters for faster experimentation\n",
    "config = create_config(\n",
    "    'cifar100',\n",
    "    training={\n",
    "        'epochs': 5,  # Reduced epochs for testing\n",
    "        'batch_size': 32,  # Smaller batch size\n",
    "        'learning_rate': 0.01  # Lower learning rate\n",
    "    },\n",
    "    model={\n",
    "        'dropout_rate': 0.5  # Increased dropout for regularization\n",
    "    }\n",
    ")\n",
    "\n",
    "print(\"\\nTraining configuration:\")\n",
    "print(config.training)\n",
    "print(\"\\nModel configuration:\")\n",
    "print(config.model)"
   ]
  },
  {
   "cell_type": "markdown",
   "metadata": {},
   "source": [
    "## Poisoning Configuration\n",
    "\n",
    "The system provides dedicated support for configuring poisoning attacks:"
   ]
  },
  {
   "cell_type": "code",
   "execution_count": null,
   "metadata": {},
   "source": [
    "# Setup a poisoning experiment with PGD attack\n",
    "config = create_config(\n",
    "    'cifar100',\n",
    "    poison={\n",
    "        'poison_type': 'pgd',\n",
    "        'poison_ratio': 0.05,  # 5% poison ratio\n",
    "        'pgd_eps': 0.2,  # Perturbation size\n",
    "        'pgd_steps': 50  # Number of PGD steps\n",
    "    },\n",
    "    training={\n",
    "        'epochs': 100,\n",
    "        'batch_size': 64\n",
    "    }\n",
    ")\n",
    "\n",
    "print(\"\\nPoisoning configuration:\")\n",
    "print(config.poison)"
   ]
  },
  {
   "cell_type": "markdown",
   "metadata": {},
   "source": [
    "## Multi-GPU Configuration\n",
    "\n",
    "You can configure multiple experiments to run in parallel across GPUs:"
   ]
  },
  {
   "cell_type": "code",
   "execution_count": null,
   "metadata": {},
   "source": [
    "# Setup multiple experiments to run in parallel\n",
    "config = create_config(\n",
    "    'cifar100',\n",
    "    execution={\n",
    "        'max_workers': 2,  # Run two experiments in parallel\n",
    "        'gpu_ids': [0, 1]  # Use two GPUs if available\n",
    "    },\n",
    "    experiment_groups={\n",
    "        'poison_comparison': {\n",
    "            'description': 'Compare different poisoning methods',\n",
    "            'experiments': [\n",
    "                {\n",
    "                    'name': 'pgd_poison',\n",
    "                    'dataset': 'cifar100',\n",
    "                    'poison': {\n",
    "                        'poison_type': 'pgd',\n",
    "                        'poison_ratio': 0.05\n",
    "                    }\n",
    "                },\n",
    "                {\n",
    "                    'name': 'gradient_ascent',\n",
    "                    'dataset': 'cifar100',\n",
    "                    'poison': {\n",
    "                        'poison_type': 'gradient_ascent',\n",
    "                        'poison_ratio': 0.05\n",
    "                    }\n",
    "                }\n",
    "            ]\n",
    "        }\n",
    "    }\n",
    ")\n",
    "\n",
    "print(\"\\nMulti-experiment configuration:\")\n",
    "print(config.experiment_groups)\n",
    "print(\"\\nExecution configuration:\")\n",
    "print(config.execution)"
   ]
  },
  {
   "cell_type": "markdown",
   "metadata": {},
   "source": [
    "## Save and Load Configuration\n",
    "\n",
    "Configurations can be saved to and loaded from YAML files:"
   ]
  },
  {
   "cell_type": "code",
   "execution_count": null,
   "metadata": {},
   "source": [
    "# Save configuration to YAML\n",
    "config_path = 'experiments/poison_experiment.yaml'\n",
    "config.save_yaml(config_path)\n",
    "print(f\"\\nSaved configuration to {config_path}\")\n",
    "\n",
    "# Load configuration from YAML\n",
    "loaded_config = create_config.from_yaml(config_path)\n",
    "print(\"\\nLoaded configuration matches original:\", loaded_config.to_dict() == config.to_dict())"
   ]
  },
  {
   "cell_type": "markdown",
   "metadata": {},
   "source": [
    "## Running an Experiment\n",
    "\n",
    "Finally, you can use your configuration to run an experiment:"
   ]
  },
  {
   "cell_type": "code",
   "execution_count": null,
   "metadata": {},
   "source": [
    "from run_experiments import ExperimentManager\n",
    "\n",
    "# Create experiment manager with our configuration\n",
    "manager = ExperimentManager(config_path)\n",
    "\n",
    "# Run the experiment (commented out for safety)\n",
    "# manager.run()\n",
    "\n",
    "print(\"\\nExperiment manager initialized with configuration:\")\n",
    "print(f\"Dataset: {manager.config.dataset_name}\")\n",
    "print(f\"Model: {manager.config.model.name}\")\n",
    "print(f\"Training epochs: {manager.config.training.epochs}\")\n",
    "print(f\"Poison type: {manager.config.poison.poison_type}\")"
   ]
  }
 ],
 "metadata": {
  "kernelspec": {
   "display_name": "Python 3",
   "language": "python",
   "name": "python3"
  },
  "language_info": {
   "codemirror_mode": {
    "name": "ipython",
    "version": 3
   },
   "file_extension": ".py",
   "mimetype": "text/x-python",
   "name": "python",
   "nbconvert_exporter": "python",
   "pygments_lexer": "ipython3",
   "version": "3.8.0"
  }
 },
 "nbformat": 4,
 "nbformat_minor": 4
}
